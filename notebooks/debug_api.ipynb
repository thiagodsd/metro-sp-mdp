{
 "cells": [
  {
   "cell_type": "code",
   "execution_count": 25,
   "id": "4260d148",
   "metadata": {},
   "outputs": [],
   "source": [
    "import pandas as pd\n",
    "from kedro.pipeline.modular_pipeline import pipeline\n",
    "from metro_sp_mdp.pipelines import mdp\n",
    "\n",
    "import metro_sp_mdp.pipelines.mdp as sp_mdp"
   ]
  },
  {
   "cell_type": "code",
   "execution_count": 11,
   "id": "775577ca",
   "metadata": {},
   "outputs": [],
   "source": [
    "df = pd.read_csv(\"/home/dusodeth/metrosp_stations.csv\")"
   ]
  },
  {
   "cell_type": "code",
   "execution_count": 12,
   "id": "92bbd19b",
   "metadata": {},
   "outputs": [
    {
     "data": {
      "text/html": [
       "<div>\n",
       "<style scoped>\n",
       "    .dataframe tbody tr th:only-of-type {\n",
       "        vertical-align: middle;\n",
       "    }\n",
       "\n",
       "    .dataframe tbody tr th {\n",
       "        vertical-align: top;\n",
       "    }\n",
       "\n",
       "    .dataframe thead th {\n",
       "        text-align: right;\n",
       "    }\n",
       "</style>\n",
       "<table border=\"1\" class=\"dataframe\">\n",
       "  <thead>\n",
       "    <tr style=\"text-align: right;\">\n",
       "      <th></th>\n",
       "      <th>Unnamed: 0</th>\n",
       "      <th>name</th>\n",
       "      <th>station</th>\n",
       "      <th>lat</th>\n",
       "      <th>lon</th>\n",
       "      <th>line</th>\n",
       "      <th>neigh</th>\n",
       "    </tr>\n",
       "  </thead>\n",
       "  <tbody>\n",
       "    <tr>\n",
       "      <th>0</th>\n",
       "      <td>aacd-servidor</td>\n",
       "      <td>Aacd Servidor</td>\n",
       "      <td>aacd-servidor</td>\n",
       "      <td>-23.597825</td>\n",
       "      <td>-46.652374</td>\n",
       "      <td>['lilas']</td>\n",
       "      <td>['moema', 'hospital-sao-paulo']</td>\n",
       "    </tr>\n",
       "    <tr>\n",
       "      <th>1</th>\n",
       "      <td>adolfo-pinheiro</td>\n",
       "      <td>Adolfo Pinheiro</td>\n",
       "      <td>adolfo-pinheiro</td>\n",
       "      <td>-23.650073</td>\n",
       "      <td>-46.704206</td>\n",
       "      <td>['lilas']</td>\n",
       "      <td>['largo-treze', 'alto-da-boa-vista']</td>\n",
       "    </tr>\n",
       "    <tr>\n",
       "      <th>2</th>\n",
       "      <td>alto-da-boa-vista</td>\n",
       "      <td>Alto Da Boa Vista</td>\n",
       "      <td>alto-da-boa-vista</td>\n",
       "      <td>-23.641625</td>\n",
       "      <td>-46.699434</td>\n",
       "      <td>['lilas']</td>\n",
       "      <td>['adolfo-pinheiro', 'borba-gato']</td>\n",
       "    </tr>\n",
       "    <tr>\n",
       "      <th>3</th>\n",
       "      <td>alto-do-ipiranga</td>\n",
       "      <td>Alto Do Ipiranga</td>\n",
       "      <td>alto-do-ipiranga</td>\n",
       "      <td>-23.602237</td>\n",
       "      <td>-46.612486</td>\n",
       "      <td>['verde']</td>\n",
       "      <td>['santos-imigrantes', 'sacoma']</td>\n",
       "    </tr>\n",
       "    <tr>\n",
       "      <th>4</th>\n",
       "      <td>ana-rosa</td>\n",
       "      <td>Ana Rosa</td>\n",
       "      <td>ana-rosa</td>\n",
       "      <td>-23.581871</td>\n",
       "      <td>-46.638104</td>\n",
       "      <td>['azul', 'verde']</td>\n",
       "      <td>['paraiso', 'vila-mariana', 'paraiso', 'chacar...</td>\n",
       "    </tr>\n",
       "    <tr>\n",
       "      <th>...</th>\n",
       "      <td>...</td>\n",
       "      <td>...</td>\n",
       "      <td>...</td>\n",
       "      <td>...</td>\n",
       "      <td>...</td>\n",
       "      <td>...</td>\n",
       "      <td>...</td>\n",
       "    </tr>\n",
       "    <tr>\n",
       "      <th>74</th>\n",
       "      <td>vila-mariana</td>\n",
       "      <td>Vila Mariana</td>\n",
       "      <td>vila-mariana</td>\n",
       "      <td>-23.589178</td>\n",
       "      <td>-46.634668</td>\n",
       "      <td>['azul']</td>\n",
       "      <td>['ana-rosa', 'santa-cruz']</td>\n",
       "    </tr>\n",
       "    <tr>\n",
       "      <th>75</th>\n",
       "      <td>vila-matilde</td>\n",
       "      <td>Vila Matilde</td>\n",
       "      <td>vila-matilde</td>\n",
       "      <td>-23.531917</td>\n",
       "      <td>-46.530873</td>\n",
       "      <td>['vermelha']</td>\n",
       "      <td>['guilhermina-esperanca', 'penha']</td>\n",
       "    </tr>\n",
       "    <tr>\n",
       "      <th>76</th>\n",
       "      <td>vila-prudente</td>\n",
       "      <td>Vila Prudente</td>\n",
       "      <td>vila-prudente</td>\n",
       "      <td>-23.584595</td>\n",
       "      <td>-46.583437</td>\n",
       "      <td>['prata', 'verde']</td>\n",
       "      <td>['oratorio', 'tamanduatei']</td>\n",
       "    </tr>\n",
       "    <tr>\n",
       "      <th>77</th>\n",
       "      <td>vila-tolstoi</td>\n",
       "      <td>Vila Tolstoi</td>\n",
       "      <td>vila-tolstoi</td>\n",
       "      <td>-23.600902</td>\n",
       "      <td>-46.527121</td>\n",
       "      <td>['prata']</td>\n",
       "      <td>['camilo-haddad', 'vila-uniao']</td>\n",
       "    </tr>\n",
       "    <tr>\n",
       "      <th>78</th>\n",
       "      <td>vila-uniao</td>\n",
       "      <td>Vila Uniao</td>\n",
       "      <td>vila-uniao</td>\n",
       "      <td>-23.602966</td>\n",
       "      <td>-46.515567</td>\n",
       "      <td>['prata']</td>\n",
       "      <td>['vila-tolstoi']</td>\n",
       "    </tr>\n",
       "  </tbody>\n",
       "</table>\n",
       "<p>79 rows × 7 columns</p>\n",
       "</div>"
      ],
      "text/plain": [
       "           Unnamed: 0               name            station        lat  \\\n",
       "0       aacd-servidor      Aacd Servidor      aacd-servidor -23.597825   \n",
       "1     adolfo-pinheiro    Adolfo Pinheiro    adolfo-pinheiro -23.650073   \n",
       "2   alto-da-boa-vista  Alto Da Boa Vista  alto-da-boa-vista -23.641625   \n",
       "3    alto-do-ipiranga   Alto Do Ipiranga   alto-do-ipiranga -23.602237   \n",
       "4            ana-rosa           Ana Rosa           ana-rosa -23.581871   \n",
       "..                ...                ...                ...        ...   \n",
       "74       vila-mariana       Vila Mariana       vila-mariana -23.589178   \n",
       "75       vila-matilde       Vila Matilde       vila-matilde -23.531917   \n",
       "76      vila-prudente      Vila Prudente      vila-prudente -23.584595   \n",
       "77       vila-tolstoi       Vila Tolstoi       vila-tolstoi -23.600902   \n",
       "78         vila-uniao         Vila Uniao         vila-uniao -23.602966   \n",
       "\n",
       "          lon                line  \\\n",
       "0  -46.652374           ['lilas']   \n",
       "1  -46.704206           ['lilas']   \n",
       "2  -46.699434           ['lilas']   \n",
       "3  -46.612486           ['verde']   \n",
       "4  -46.638104   ['azul', 'verde']   \n",
       "..        ...                 ...   \n",
       "74 -46.634668            ['azul']   \n",
       "75 -46.530873        ['vermelha']   \n",
       "76 -46.583437  ['prata', 'verde']   \n",
       "77 -46.527121           ['prata']   \n",
       "78 -46.515567           ['prata']   \n",
       "\n",
       "                                                neigh  \n",
       "0                     ['moema', 'hospital-sao-paulo']  \n",
       "1                ['largo-treze', 'alto-da-boa-vista']  \n",
       "2                   ['adolfo-pinheiro', 'borba-gato']  \n",
       "3                     ['santos-imigrantes', 'sacoma']  \n",
       "4   ['paraiso', 'vila-mariana', 'paraiso', 'chacar...  \n",
       "..                                                ...  \n",
       "74                         ['ana-rosa', 'santa-cruz']  \n",
       "75                 ['guilhermina-esperanca', 'penha']  \n",
       "76                        ['oratorio', 'tamanduatei']  \n",
       "77                    ['camilo-haddad', 'vila-uniao']  \n",
       "78                                   ['vila-tolstoi']  \n",
       "\n",
       "[79 rows x 7 columns]"
      ]
     },
     "execution_count": 12,
     "metadata": {},
     "output_type": "execute_result"
    }
   ],
   "source": [
    "df"
   ]
  },
  {
   "cell_type": "code",
   "execution_count": 19,
   "id": "9caf238b",
   "metadata": {},
   "outputs": [],
   "source": [
    "pipe = pipeline(mdp.create_pipeline(),\n",
    "                parameters={\n",
    "                    \"params:metro_sp_from\":\"luz\", \n",
    "                    \"params:metro_sp_to\":\"carrão\"\n",
    "                })"
   ]
  },
  {
   "cell_type": "code",
   "execution_count": 23,
   "id": "805827c5",
   "metadata": {},
   "outputs": [
    {
     "data": {
      "text/plain": [
       "Pipeline([\n",
       "Node(tratamento, 'estacoes', 'estacoes_limpa', 'node_tratamento'),\n",
       "Node(carrega_mdp, ['estacoes_limpa', 'luz', 'carrão'], 'MDP', 'node_carrega_mdp'),\n",
       "Node(resolve_mdp, 'MDP', 'json_resultado', 'node_resolve_mdp')\n",
       "])"
      ]
     },
     "execution_count": 23,
     "metadata": {},
     "output_type": "execute_result"
    }
   ],
   "source": [
    "pipe"
   ]
  },
  {
   "cell_type": "markdown",
   "id": "9ed2fea2",
   "metadata": {},
   "source": [
    "<br/>"
   ]
  },
  {
   "cell_type": "code",
   "execution_count": 31,
   "id": "de6b28f4",
   "metadata": {},
   "outputs": [],
   "source": [
    "metro_from = \"Estação da Luz\".lower() #request.form['metro_from']\n",
    "metro_to = \"Estação Vila Prudente\".lower() #request.form['metro_to']\n",
    "\n",
    "ruido = [\"estação\", \"estacao\", \"station\", \"da\", \"de\", \"do\"]\n",
    "for r in ruido:\n",
    "    if r in metro_from:\n",
    "        metro_from = metro_from.replace(r, \"\")\n",
    "    if r in metro_to:\n",
    "        metro_to = metro_to.replace(r, \"\")\n",
    "\n",
    "df = pd.read_csv(\"~/metrosp_stations.csv\")\n",
    "\n",
    "metro_from_fuzz = sp_mdp.nodes.fuzz_string(str(metro_from), df['station'])\n",
    "metro_to_fuzz = sp_mdp.nodes.fuzz_string(str(metro_to), df['station'])"
   ]
  },
  {
   "cell_type": "code",
   "execution_count": 32,
   "id": "80455f9d",
   "metadata": {},
   "outputs": [
    {
     "name": "stdout",
     "output_type": "stream",
     "text": [
      "luz\n",
      "vila-prudente\n"
     ]
    }
   ],
   "source": [
    "print(metro_from_fuzz)\n",
    "print(metro_to_fuzz)"
   ]
  },
  {
   "cell_type": "code",
   "execution_count": 33,
   "id": "aa826ef8",
   "metadata": {},
   "outputs": [],
   "source": [
    "sistema = sp_mdp.nodes.Problem(df, metro_from_fuzz, metro_to_fuzz)"
   ]
  },
  {
   "cell_type": "code",
   "execution_count": 35,
   "id": "21baade6",
   "metadata": {},
   "outputs": [
    {
     "data": {
      "text/plain": [
       "{'estacoes': ['luz',\n",
       "  'sao-bento',\n",
       "  'se',\n",
       "  'japao-liberdade',\n",
       "  'sao-joaquim',\n",
       "  'vergueiro',\n",
       "  'paraiso',\n",
       "  'ana-rosa',\n",
       "  'chacara-klabin',\n",
       "  'santos-imigrantes',\n",
       "  'alto-do-ipiranga',\n",
       "  'sacoma',\n",
       "  'tamanduatei',\n",
       "  'vila-prudente']}"
      ]
     },
     "execution_count": 35,
     "metadata": {},
     "output_type": "execute_result"
    }
   ],
   "source": [
    "sp_mdp.pipeline.resolve_mdp(sistema)"
   ]
  },
  {
   "cell_type": "markdown",
   "id": "95069fee",
   "metadata": {},
   "source": [
    "."
   ]
  }
 ],
 "metadata": {
  "kernelspec": {
   "display_name": "metro_sp_mdp",
   "language": "python",
   "name": "metro_sp_mdp"
  },
  "language_info": {
   "codemirror_mode": {
    "name": "ipython",
    "version": 3
   },
   "file_extension": ".py",
   "mimetype": "text/x-python",
   "name": "python",
   "nbconvert_exporter": "python",
   "pygments_lexer": "ipython3",
   "version": "3.8.10"
  },
  "toc": {
   "base_numbering": 1,
   "nav_menu": {},
   "number_sections": true,
   "sideBar": true,
   "skip_h1_title": false,
   "title_cell": "Table of Contents",
   "title_sidebar": "Contents",
   "toc_cell": false,
   "toc_position": {},
   "toc_section_display": true,
   "toc_window_display": false
  }
 },
 "nbformat": 4,
 "nbformat_minor": 5
}
